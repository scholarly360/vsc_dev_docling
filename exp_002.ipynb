{
 "cells": [
  {
   "cell_type": "markdown",
   "metadata": {},
   "source": [
    "## RAG (Langchain)"
   ]
  },
  {
   "cell_type": "code",
   "execution_count": 8,
   "metadata": {},
   "outputs": [],
   "source": [
    "import os\n",
    "from dotenv import load_dotenv\n",
    "load_dotenv()\n",
    "\n",
    "from typing import Iterator\n",
    "\n",
    "from langchain_core.document_loaders import BaseLoader\n",
    "from langchain_core.documents import Document as LCDocument\n",
    "\n",
    "from docling.document_converter import DocumentConverter\n",
    "\n",
    "class DoclingPDFLoader(BaseLoader):\n",
    "\n",
    "    def __init__(self, file_path: str | list[str]) -> None:\n",
    "        self._file_paths = file_path if isinstance(file_path, list) else [file_path]\n",
    "        self._converter = DocumentConverter()\n",
    "\n",
    "    def lazy_load(self) -> Iterator[LCDocument]:\n",
    "        for source in self._file_paths:\n",
    "            dl_doc = self._converter.convert(source).document\n",
    "            text = dl_doc.export_to_markdown()\n",
    "            yield LCDocument(page_content=text)\n",
    "\n",
    "\n",
    "FILE_PATH = \"docs/sample.pdf\"  # Contract\n",
    "\n",
    "from langchain_text_splitters import RecursiveCharacterTextSplitter\n",
    "\n",
    "loader = DoclingPDFLoader(file_path=FILE_PATH)\n",
    "text_splitter = RecursiveCharacterTextSplitter(\n",
    "    chunk_size=1000,\n",
    "    chunk_overlap=200,\n",
    ")\n",
    "\n",
    "docs = loader.load()\n",
    "splits = text_splitter.split_documents(docs)\n",
    "from langchain_huggingface.embeddings import HuggingFaceEmbeddings\n",
    "HF_EMBED_MODEL_ID = \"BAAI/bge-small-en-v1.5\"\n",
    "embeddings = HuggingFaceEmbeddings(model_name=HF_EMBED_MODEL_ID)\n",
    "\n",
    "from tempfile import TemporaryDirectory\n",
    "\n",
    "from langchain_milvus import Milvus\n",
    "\n",
    "MILVUS_URI = os.environ.get(\n",
    "    \"MILVUS_URI\", \"milvus_demo.db\",\n",
    ")\n",
    "\n",
    "# Define the index parameters for local mode\n",
    "index_params = {\n",
    "    \"index_type\": \"IVF_FLAT\",  # Use IVF_FLAT instead of HNSW for local mode\n",
    "    \"metric_type\": \"L2\",       # L2 distance metric\n",
    "    \"params\": {\"nlist\": 1024}  # Number of cluster units\n",
    "}\n",
    "vectorstore = Milvus.from_documents(\n",
    "    splits,\n",
    "    embeddings,\n",
    "    connection_args={\"uri\": MILVUS_URI},\n",
    "    index_params=index_params,  # Add the index parameters here\n",
    "    drop_old=True,\n",
    ")\n",
    "\n"
   ]
  },
  {
   "cell_type": "code",
   "execution_count": 9,
   "metadata": {},
   "outputs": [],
   "source": [
    "from langchain_huggingface import HuggingFaceEndpoint\n",
    "\n",
    "HF_API_KEY = os.environ.get(\"HF_API_KEY\")\n",
    "HF_LLM_MODEL_ID = \"mistralai/Mistral-7B-Instruct-v0.3\"\n",
    "\n",
    "llm = HuggingFaceEndpoint(\n",
    "    repo_id=HF_LLM_MODEL_ID,\n",
    "    huggingfacehub_api_token=HF_API_KEY,\n",
    ")\n",
    "\n",
    "from typing import Iterable\n",
    "\n",
    "from langchain_core.documents import Document as LCDocument\n",
    "from langchain_core.output_parsers import StrOutputParser\n",
    "from langchain_core.prompts import PromptTemplate\n",
    "from langchain_core.runnables import RunnablePassthrough\n",
    "\n",
    "\n",
    "def format_docs(docs: Iterable[LCDocument]):\n",
    "    return \"\\n\\n\".join(doc.page_content for doc in docs)\n",
    "\n",
    "\n",
    "retriever = vectorstore.as_retriever()\n",
    "\n",
    "prompt = PromptTemplate.from_template(\n",
    "    \"Context information is below.\\n---------------------\\n{context}\\n---------------------\\nGiven the context information and not prior knowledge, answer the query.\\nQuery: {question}\\nAnswer:\\n\"\n",
    ")\n",
    "\n",
    "rag_chain = (\n",
    "    {\"context\": retriever | format_docs, \"question\": RunnablePassthrough()}\n",
    "    | prompt\n",
    "    | llm\n",
    "    | StrOutputParser()\n",
    ")\n"
   ]
  },
  {
   "cell_type": "code",
   "execution_count": 10,
   "metadata": {},
   "outputs": [
    {
     "data": {
      "text/plain": [
       "\"Under this contract, the Consultant agrees to exercise special skill to accomplish certain results in a manner reasonably satisfactory to the Commission. These results are specified in Exhibit A: Scope of Services, which is incorporated by reference in this Agreement. The Consultant is responsible for providing the key personnel listed in the Agreement to perform the services specified. The Consultant also agrees to indemnify, defend, and hold harmless the Commission from any claims, demands, losses, damages, defense costs, or liability of any kind or nature that may arise out of the Consultant's negligence, recklessness, or willful misconduct under the terms of this Agreement. This includes any damage to the person(s), or property(ies) of the Consultant and third parties.\""
      ]
     },
     "execution_count": 10,
     "metadata": {},
     "output_type": "execute_result"
    }
   ],
   "source": [
    "rag_chain.invoke(\"Explain Duties?\")"
   ]
  },
  {
   "cell_type": "code",
   "execution_count": 11,
   "metadata": {},
   "outputs": [
    {
     "data": {
      "text/plain": [
       "\"1. The consultant should have Comprehensive or Commercial General Liability Insurance coverage in the minimum amount of one million dollars ($1,000,000) combined single limit (CSL), including coverage for bodily injury, personal injury, broad form property damage, contractual liability, and cross-liability.\\n2. Professional Liability Insurance is required in the minimum amount of one million dollars ($1,000,000) combined single limit, but only if both the consultant and the commission initial a specific clause.\\n3. The consultant should ensure that any insurance policy required by this document includes language that the insurer's legal obligation to defend or indemnify the commission is not conditioned on the performance of any act(s) by the named insured. Such insurance policy should also name the commission as a named insured.\\n4. The consultant is responsible for paying all deductibles and self-insured retentions (SIR) required to be paid under any insurance policy that may provide defense or indemnity coverage to the commission or any additional insured within five (5) work days.\\n5. The consultant should obtain and maintain Workers' Compensation insurance in the minimum statutorily required coverage amounts, unless the consultant has no employees and certifies to this fact.\\n6. The consultant should obtain and maintain Automobile Liability Insurance for each of its vehicles used in the performance of this agreement, in the minimum amount of $1,000,000 combined single limit per occurrence for bodily injury and property damage, unless vehicle use by the consultant is not a material part of performance of this Agreement and both the consultant and the commission certify to this fact.\\n7. The consultant is responsible for any and all Federal, State and Local taxes, charges, fees, or contributions required to be paid with respect to the consultant and the consultant's officers, employees, and agents engaged in the performance of this Agreement.\""
      ]
     },
     "execution_count": 11,
     "metadata": {},
     "output_type": "execute_result"
    }
   ],
   "source": [
    "rag_chain.invoke(\"What about insurance?\")"
   ]
  }
 ],
 "metadata": {
  "kernelspec": {
   "display_name": "Python 3",
   "language": "python",
   "name": "python3"
  },
  "language_info": {
   "codemirror_mode": {
    "name": "ipython",
    "version": 3
   },
   "file_extension": ".py",
   "mimetype": "text/x-python",
   "name": "python",
   "nbconvert_exporter": "python",
   "pygments_lexer": "ipython3",
   "version": "3.12.8"
  }
 },
 "nbformat": 4,
 "nbformat_minor": 2
}
